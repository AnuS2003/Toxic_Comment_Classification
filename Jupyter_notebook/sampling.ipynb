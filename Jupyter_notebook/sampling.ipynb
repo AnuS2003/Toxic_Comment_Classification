{
 "cells": [
  {
   "cell_type": "code",
   "execution_count": 1,
   "id": "ee630668-2a1d-435e-84b9-70c262d4f43b",
   "metadata": {},
   "outputs": [],
   "source": [
    "import numpy as np\n",
    "import pandas as pd\n"
   ]
  },
  {
   "cell_type": "code",
   "execution_count": 2,
   "id": "9a804e14-d60d-43d3-a968-8f780888acd7",
   "metadata": {},
   "outputs": [
    {
     "data": {
      "text/plain": [
       "id               0\n",
       "comment_text     0\n",
       "toxic            0\n",
       "severe_toxic     0\n",
       "obscene          0\n",
       "threat           0\n",
       "insult           0\n",
       "identity_hate    0\n",
       "dtype: int64"
      ]
     },
     "execution_count": 2,
     "metadata": {},
     "output_type": "execute_result"
    }
   ],
   "source": [
    "df = pd.read_csv(r'jigsaw-toxic-comment-train.csv')\n",
    "df.isnull().sum()"
   ]
  },
  {
   "cell_type": "code",
   "execution_count": 3,
   "id": "1c0cea71-04e8-4b55-b575-6ebca8b1b686",
   "metadata": {},
   "outputs": [
    {
     "data": {
      "text/plain": [
       "toxic\n",
       "0    202165\n",
       "1     21384\n",
       "Name: count, dtype: int64"
      ]
     },
     "execution_count": 3,
     "metadata": {},
     "output_type": "execute_result"
    }
   ],
   "source": [
    "df['toxic'].value_counts()"
   ]
  },
  {
   "cell_type": "code",
   "execution_count": 4,
   "id": "8a085ce5-ee05-4ea9-b431-33b715ae4948",
   "metadata": {},
   "outputs": [],
   "source": [
    "from sklearn.model_selection import train_test_split\n",
    "\n",
    "# Assuming df is your initial dataset\n",
    "df_toxic = df[df['toxic'] == 1]\n",
    "df_non_toxic = df[df['toxic'] == 0]\n",
    "\n",
    "# Randomly sample non-toxic comments to match the number of toxic comments\n",
    "df_non_toxic_sampled = df_non_toxic.sample(n=len(df_toxic), random_state=42)\n",
    "\n",
    "# Combine toxic and non-toxic samples\n",
    "df_balanced = pd.concat([df_toxic, df_non_toxic_sampled])\n"
   ]
  },
  {
   "cell_type": "code",
   "execution_count": 5,
   "id": "22c9da89-2d76-476d-936d-2b2c7b839c97",
   "metadata": {},
   "outputs": [
    {
     "data": {
      "text/plain": [
       "(42768, 8)"
      ]
     },
     "execution_count": 5,
     "metadata": {},
     "output_type": "execute_result"
    }
   ],
   "source": [
    "df_balanced.shape"
   ]
  },
  {
   "cell_type": "code",
   "execution_count": 6,
   "id": "ed8d6b13",
   "metadata": {},
   "outputs": [
    {
     "name": "stdout",
     "output_type": "stream",
     "text": [
      "toxic\n",
      "1    21384\n",
      "0    21384\n",
      "Name: count, dtype: int64\n",
      "severe_toxic\n",
      "0    40806\n",
      "1     1962\n",
      "Name: count, dtype: int64\n",
      "obscene\n",
      "0    31151\n",
      "1    11617\n",
      "Name: count, dtype: int64\n",
      "threat\n",
      "0    42111\n",
      "1      657\n",
      "Name: count, dtype: int64\n",
      "insult\n",
      "0    32020\n",
      "1    10748\n",
      "Name: count, dtype: int64\n",
      "identity_hate\n",
      "0    40752\n",
      "1     2016\n",
      "Name: count, dtype: int64\n"
     ]
    }
   ],
   "source": [
    "labels = ['toxic', 'severe_toxic', 'obscene', 'threat', 'insult', 'identity_hate']\n",
    "for i in labels:\n",
    "    print(df_balanced[i].value_counts())"
   ]
  },
  {
   "cell_type": "code",
   "execution_count": 7,
   "id": "4cf21368",
   "metadata": {},
   "outputs": [],
   "source": [
    "# df_balanced.to_csv('balanced_toxic_comments.csv', index=False)"
   ]
  },
  {
   "cell_type": "code",
   "execution_count": null,
   "id": "e2dcbfff",
   "metadata": {},
   "outputs": [],
   "source": []
  }
 ],
 "metadata": {
  "kernelspec": {
   "display_name": "Python 3 (ipykernel)",
   "language": "python",
   "name": "python3"
  },
  "language_info": {
   "codemirror_mode": {
    "name": "ipython",
    "version": 3
   },
   "file_extension": ".py",
   "mimetype": "text/x-python",
   "name": "python",
   "nbconvert_exporter": "python",
   "pygments_lexer": "ipython3",
   "version": "3.11.5"
  }
 },
 "nbformat": 4,
 "nbformat_minor": 5
}
